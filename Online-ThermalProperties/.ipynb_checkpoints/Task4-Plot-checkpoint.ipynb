{
 "cells": [
  {
   "cell_type": "code",
   "execution_count": 8,
   "metadata": {},
   "outputs": [],
   "source": [
    "import matplotlib as mpl\n",
    "import matplotlib.pyplot as plt\n",
    "import numpy as np\n",
    "import math\n",
    "\n",
    "mpl.rcParams['axes.linewidth'] = 3"
   ]
  },
  {
   "cell_type": "code",
   "execution_count": null,
   "metadata": {},
   "outputs": [],
   "source": [
    "L1 = np.arange(0,1.0,0.01)\n",
    "\n",
    "fig, ax = plt.subplots()\n",
    "ax.plot(L1,0.3529*L1-0.1373,marker='',linestyle='-',color='black',label='C1')\n",
    "ax.plot(L1,0.3529*L1+0.2549,marker='',linestyle='-',color='red',label='C2')\n",
    "ax.plot(L1,1.0-L1,marker='',linestyle='-',color='blue',label='C3')\n",
    "\n",
    "ax.tick_params(width=3,length=5)\n",
    "ax.set_xlabel(r'L$_1$',fontsize=18)\n",
    "ax.set_ylabel(r'L$_2$',fontsize=18)\n",
    "ax.set_xlim(0.0,1.0)\n",
    "ax.set_ylim(0.0,1.0)\n",
    "\n",
    "ax.tick_params(axis='both',labelsize=16)\n",
    "plt.savefig('Task4Plot.png', format='png', dpi=1000, bbox_inches='tight')\n",
    "\n",
    "plt.show()"
   ]
  },
  {
   "cell_type": "code",
   "execution_count": 11,
   "metadata": {},
   "outputs": [
    {
     "name": "stdout",
     "output_type": "stream",
     "text": [
      "0.4046\n"
     ]
    }
   ],
   "source": [
    "def R(x,y):\n",
    "    return (0.4046 + 6.6622*x + 0.0455*y)\n",
    "\n",
    "print (R(0,0))"
   ]
  },
  {
   "cell_type": "code",
   "execution_count": 15,
   "metadata": {},
   "outputs": [
    {
     "name": "stdout",
     "output_type": "stream",
     "text": [
      "2.99686202\n"
     ]
    }
   ],
   "source": [
    "print(R(0.3891,0))"
   ]
  },
  {
   "cell_type": "code",
   "execution_count": 16,
   "metadata": {},
   "outputs": [
    {
     "name": "stdout",
     "output_type": "stream",
     "text": [
      "1.9998599999999997\n"
     ]
    }
   ],
   "source": [
    "print (0.9*0.8406 + 7.8*0.1594)"
   ]
  },
  {
   "cell_type": "code",
   "execution_count": null,
   "metadata": {},
   "outputs": [],
   "source": []
  }
 ],
 "metadata": {
  "kernelspec": {
   "display_name": "Python 3",
   "language": "python",
   "name": "python3"
  },
  "language_info": {
   "codemirror_mode": {
    "name": "ipython",
    "version": 3
   },
   "file_extension": ".py",
   "mimetype": "text/x-python",
   "name": "python",
   "nbconvert_exporter": "python",
   "pygments_lexer": "ipython3",
   "version": "3.7.6"
  }
 },
 "nbformat": 4,
 "nbformat_minor": 4
}
