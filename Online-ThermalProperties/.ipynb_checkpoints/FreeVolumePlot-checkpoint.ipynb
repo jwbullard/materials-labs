{
 "cells": [
  {
   "cell_type": "markdown",
   "metadata": {},
   "source": [
    "# Plotting the free volume relaxation equation\n",
    "\n",
    "The equation is\n",
    "\\begin{equation}\n",
    "V(T) = V_0 \\left[ 1 - \\left( 1 - e^{-\\Delta T/(\\beta t_{\\text{rel}})} \\right) \\Delta T \\alpha_f \\right]\n",
    "\\end{equation}\n",
    "\n",
    "With these properties for a soda lime silica glass:\n",
    "\n",
    "| Property | Symbol | Value |\n",
    "| --- | --- | --- |\n",
    "| Bulk Modulus | $K$ | $10^{11}$ |\n",
    "| Viscosity | $\\mu$ | $10^{43}e^{90000/T}$ |\n",
    "| Cooling Rate | $\\beta$ | $10$ |\n",
    "| Expansion Coefficient| $\\alpha_f$ | $10^{-4}$ |\n",
    "| V(770) | $V_0$ | 1 |"
   ]
  },
  {
   "cell_type": "code",
   "execution_count": 1,
   "metadata": {},
   "outputs": [],
   "source": [
    "# import numpy as np\n",
    "import matplotlib as mpl\n",
    "import matplotlib.pyplot as plt\n",
    "import numpy as np\n",
    "import math\n",
    "\n",
    "mpl.rcParams['axes.linewidth'] = 3"
   ]
  },
  {
   "cell_type": "code",
   "execution_count": 42,
   "metadata": {},
   "outputs": [],
   "source": [
    "def freeV():\n",
    "    term1 = V0\n",
    "    term2 = 1 - np.exp(-(Tprev-T)/beta/trel)\n",
    "    term3 = (Tprev-T)*alpha\n",
    "    return (term1 * (1.0 - (term2*term3)))\n",
    "\n",
    "def visc():\n",
    "    return (1.0e-43*np.exp(90000.0/T))"
   ]
  },
  {
   "cell_type": "code",
   "execution_count": 45,
   "metadata": {},
   "outputs": [
    {
     "name": "stdout",
     "output_type": "stream",
     "text": [
      "[1.         0.9998     0.99960004 0.99940012 0.99920024 0.9990004\n",
      " 0.9988006  0.99860084 0.99840112 0.99820144 0.9980018  0.9978022\n",
      " 0.99760264 0.99740312 0.99720364 0.9970042  0.9968048  0.99660543\n",
      " 0.99640612 0.9962069  0.99600831 0.99581247 0.99562423 0.99545045\n",
      " 0.99529756 0.99516933 0.99506627 0.99498629 0.99492593 0.99488135\n",
      " 0.99484896 0.99482572 0.9948092  0.99479756 0.99478939 0.9947837\n",
      " 0.99477974 0.994777   0.9947751  0.9947738  0.99477291 0.99477229\n",
      " 0.99477187 0.99477159 0.9947714  0.99477126 0.99477117 0.99477111\n",
      " 0.99477107 0.99477105 0.99477103 0.99477102 0.99477101 0.994771\n",
      " 0.994771   0.994771   0.99477099 0.99477099 0.99477099 0.99477099]\n"
     ]
    }
   ],
   "source": [
    "# Cooling rate = 1 K/s\n",
    "beta = 1.0\n",
    "Tstart = 770.0\n",
    "Tend = 650.0\n",
    "K = 1.0e11\n",
    "alpha = 1.0e-4\n",
    "V0 = 1.0        # Initial value, will update for every 2 K of cooling\n",
    "\n",
    "Tvals = np.empty(1)\n",
    "Vvals1 = np.empty(1)\n",
    "Tvals[0] = Tstart\n",
    "Vvals1[0] = V0\n",
    "Tseries = np.arange(Tstart-2.0,Tend,-2.0)\n",
    "Tprev = Tstart\n",
    "for T in Tseries:\n",
    "    Tvals = np.append(Tvals,T)\n",
    "    mu = visc()\n",
    "    trel = mu / K\n",
    "    newV = freeV()\n",
    "    Vvals1 = np.append(Vvals1,newV)\n",
    "    V0 = newV\n",
    "    Tprev = T\n",
    "\n",
    "# Cooling rate = 10 K/s\n",
    "beta = 10.0\n",
    "V0 = 1.0        # Initial value, will update for every 2 K of cooling\n",
    "\n",
    "Tvals = np.empty(1)\n",
    "Vvals10 = np.empty(1)\n",
    "Tvals[0] = Tstart\n",
    "Vvals10[0] = V0\n",
    "Tseries = np.arange(Tstart-2.0,Tend,-2.0)\n",
    "Tprev = Tstart\n",
    "for T in Tseries:\n",
    "    Tvals = np.append(Tvals,T)\n",
    "    mu = visc()\n",
    "    trel = mu / K\n",
    "    newV = freeV()\n",
    "    Vvals10 = np.append(Vvals10,newV)\n",
    "    V0 = newV\n",
    "    Tprev = T    \n",
    "\n",
    "# Cooling rate = 100 K/s\n",
    "beta = 100.0\n",
    "V0 = 1.0        # Initial value, will update for every 2 K of cooling\n",
    "\n",
    "Tvals = np.empty(1)\n",
    "Vvals100 = np.empty(1)\n",
    "Tvals[0] = Tstart\n",
    "Vvals100[0] = V0\n",
    "Tseries = np.arange(Tstart-2.0,Tend,-2.0)\n",
    "Tprev = Tstart\n",
    "for T in Tseries:\n",
    "    Tvals = np.append(Tvals,T)\n",
    "    mu = visc()\n",
    "    trel = mu / K\n",
    "    newV = freeV()\n",
    "    Vvals100 = np.append(Vvals100,newV)\n",
    "    V0 = newV\n",
    "    Tprev = T    \n",
    "\n",
    "print(Vvals1)"
   ]
  },
  {
   "cell_type": "markdown",
   "metadata": {},
   "source": [
    "## Plot the V vs T curves for each cooling rate"
   ]
  },
  {
   "cell_type": "code",
   "execution_count": 47,
   "metadata": {},
   "outputs": [
    {
     "data": {
      "image/png": "[encoded data removed]",
      "text/plain": [
       "<Figure size 432x288 with 1 Axes>"
      ]
     },
     "metadata": {
      "needs_background": "light"
     },
     "output_type": "display_data"
    }
   ],
   "source": [
    "fig, ax = plt.subplots()\n",
    "ax.plot(Tvals,Vvals1,marker='o',linestyle='',color='black',label='1')\n",
    "ax.plot(Tvals,Vvals10,marker='o',linestyle='',color='blue',label='10')\n",
    "ax.plot(Tvals,Vvals100,marker='o',linestyle='',color='red',label='100')\n",
    "\n",
    "ax.tick_params(width=3,length=5)\n",
    "ax.set_xlabel(r'T (K)',fontsize=18)\n",
    "ax.set_ylabel(r'V',fontsize=18)\n",
    "\n",
    "ax.tick_params(axis='both',labelsize=16)\n",
    "plt.savefig('FreeVolumeVsT.png', format='png', dpi=1000, bbox_inches='tight')\n",
    "\n",
    "plt.show()"
   ]
  },
  {
   "cell_type": "code",
   "execution_count": null,
   "metadata": {},
   "outputs": [],
   "source": []
  }
 ],
 "metadata": {
  "kernelspec": {
   "display_name": "Python 3",
   "language": "python",
   "name": "python3"
  },
  "language_info": {
   "codemirror_mode": {
    "name": "ipython",
    "version": 3
   },
   "file_extension": ".py",
   "mimetype": "text/x-python",
   "name": "python",
   "nbconvert_exporter": "python",
   "pygments_lexer": "ipython3",
   "version": "3.7.3"
  }
 },
 "nbformat": 4,
 "nbformat_minor": 2
}
